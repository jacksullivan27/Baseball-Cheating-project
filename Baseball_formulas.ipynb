{
 "cells": [
  {
   "cell_type": "code",
   "execution_count": 1,
   "id": "a28eac3e",
   "metadata": {},
   "outputs": [],
   "source": [
    "import function # data sheet in which we defined the changes in key metrics to find cheating, Chris's CSV\n",
    "import sample_data  # functions for Sam's CSV with hypothetical innings pitched"
   ]
  },
  {
   "cell_type": "code",
   "execution_count": 2,
   "id": "d2e048f4",
   "metadata": {
    "scrolled": true
   },
   "outputs": [
    {
     "name": "stdout",
     "output_type": "stream",
     "text": [
      "Type player first name here: Kyle\n"
     ]
    }
   ],
   "source": [
    "first_name = input(\"Type player first name here: \")"
   ]
  },
  {
   "cell_type": "code",
   "execution_count": 3,
   "id": "c513c944",
   "metadata": {},
   "outputs": [
    {
     "name": "stdout",
     "output_type": "stream",
     "text": [
      "Type player last name here: Gibson\n"
     ]
    }
   ],
   "source": [
    "last_name = input(\"Type player last name here: \")"
   ]
  },
  {
   "cell_type": "code",
   "execution_count": 18,
   "id": "3ce1a46b",
   "metadata": {},
   "outputs": [
    {
     "name": "stdout",
     "output_type": "stream",
     "text": [
      "Type Scenario here: low\n"
     ]
    }
   ],
   "source": [
    "case = input(\"Type Scenario here: \")\n",
    "# extreme   # cheating   # valid    # low"
   ]
  },
  {
   "cell_type": "code",
   "execution_count": 19,
   "id": "08b581cf",
   "metadata": {
    "scrolled": true
   },
   "outputs": [
    {
     "name": "stdout",
     "output_type": "stream",
     "text": [
      "Kyle Gibson is not cheating.\n"
     ]
    }
   ],
   "source": [
    "# Key variables to work with from function\n",
    "valid_spin = function.get_valid_spin(first_name, last_name)  # The change in spin rate we calculated that would indicate cheating\n",
    "\n",
    "\n",
    "\n",
    "import pandas as pd\n",
    "import numpy as np\n",
    "\n",
    "\n",
    "pitch_ave_spin = sample_data.get_ave_spin(case, df = pd.read_csv(\"sample_data.csv\"))\n",
    "\n",
    "\n",
    "\n",
    "cheating_case = pd.read_csv(\"curve_diff.csv\")\n",
    "cheating_case = cheating_case[cheating_case[\"spin_diff\"] > 0] # drops negative values of spin difference \n",
    "                                                                #non cheating examples of regression\n",
    "\n",
    "\n",
    "# test for suspicious spin rate\n",
    "if pitch_ave_spin - valid_spin > function.get_ave_diff(\"spin_diff\", df = pd.read_csv(\"curve_diff.csv\")):\n",
    "    print(first_name + \" \" + last_name + \" has a spin rate that is suspicious of cheating.\")\n",
    "else:\n",
    "    print(first_name + \" \" + last_name + \" is not cheating.\")"
   ]
  }
 ],
 "metadata": {
  "kernelspec": {
   "display_name": "Python 3 (ipykernel)",
   "language": "python",
   "name": "python3"
  },
  "language_info": {
   "codemirror_mode": {
    "name": "ipython",
    "version": 3
   },
   "file_extension": ".py",
   "mimetype": "text/x-python",
   "name": "python",
   "nbconvert_exporter": "python",
   "pygments_lexer": "ipython3",
   "version": "3.9.13"
  }
 },
 "nbformat": 4,
 "nbformat_minor": 5
}
