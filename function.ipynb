{
 "cells": [
  {
   "cell_type": "code",
   "execution_count": 1,
   "id": "81cfbd28",
   "metadata": {},
   "outputs": [],
   "source": [
    "def get_ave_diff(col_name, df):\n",
    "    return np.mean(df[col_name])"
   ]
  },
  {
   "cell_type": "code",
   "execution_count": 6,
   "id": "172aaed2",
   "metadata": {},
   "outputs": [],
   "source": [
    "import pandas as pd\n",
    "import numpy as np\n",
    "cheating_case = pd.read_csv(\"curve_diff.csv\")\n",
    "cheating_case = cheating_case[cheating_case[\"spin_diff\"] > 0]"
   ]
  },
  {
   "cell_type": "code",
   "execution_count": 3,
   "id": "ba8709b6",
   "metadata": {},
   "outputs": [],
   "source": [
    "__curve_diff__ = []"
   ]
  },
  {
   "cell_type": "code",
   "execution_count": 4,
   "id": "a368cf93",
   "metadata": {},
   "outputs": [],
   "source": [
    "def __init__():\n",
    "    import csv\n",
    "    \"\"\"This function will read in the csv_file and store it in a list of dictionaries\"\"\"\n",
    "    __curve_diff__.clear()\n",
    "    with open('curve_diff.csv', mode='r') as csv_file:\n",
    "        csv_reader = csv.DictReader(csv_file)\n",
    "        for row in csv_reader:\n",
    "            __curve_diff__.append(row)"
   ]
  },
  {
   "cell_type": "code",
   "execution_count": 5,
   "id": "1be3dbae",
   "metadata": {},
   "outputs": [],
   "source": [
    "def count():\n",
    "    \"\"\"This function will return the number of records in the dataset\"\"\"\n",
    "    return len(__curve_diff__)"
   ]
  },
  {
   "cell_type": "code",
   "execution_count": 5,
   "id": "e1229f2d",
   "metadata": {},
   "outputs": [],
   "source": [
    "def get_first_name(idx):\n",
    "    \"\"\"get_first_name(idx) returns the first name of the player in row idx\"\"\"\n",
    "    return __curve_diff__[int(idx)][' first_name_2020']"
   ]
  },
  {
   "cell_type": "code",
   "execution_count": 4,
   "id": "f7cbe737",
   "metadata": {},
   "outputs": [],
   "source": [
    "def get_last_name(idx):\n",
    "    \"\"\"get_last_name(idx) returns the last name of the player in row idx\"\"\"\n",
    "    return __curve_diff__[int(idx)]['last_name_2020']"
   ]
  },
  {
   "cell_type": "code",
   "execution_count": 8,
   "id": "e9acb674",
   "metadata": {},
   "outputs": [],
   "source": [
    "def get_player_id(idx):\n",
    "    \"\"\"get_player_id(idx) returns the id of the player in row idx\"\"\"\n",
    "    return __curve_diff__[int(idx)]['player_id']"
   ]
  },
  {
   "cell_type": "code",
   "execution_count": 9,
   "id": "b9fb2643",
   "metadata": {},
   "outputs": [],
   "source": [
    "def get_spin_2020(idx):\n",
    "    \"\"\"get_spin_2020(idx) returns the spin difference in 2020 of the player in row idx\"\"\"\n",
    "    return __curve_diff__[int(idx)]['spin_rate_2020']"
   ]
  },
  {
   "cell_type": "code",
   "execution_count": 10,
   "id": "7a81e5b0",
   "metadata": {},
   "outputs": [],
   "source": [
    "def get_spin_2021(idx):\n",
    "    \"\"\"get_spin_2021(idx) returns the spin difference in 2021 of the player in row idx\"\"\"\n",
    "    return __curve_diff__[int(idx)]['spin_rate_2021']"
   ]
  },
  {
   "cell_type": "code",
   "execution_count": 2,
   "id": "8af9e9b8",
   "metadata": {},
   "outputs": [],
   "source": [
    "def get_valid_spin(first_name, last_name):\n",
    "\n",
    "    for idx in range(count()):\n",
    "        if get_first_name(idx) == first_name:\n",
    "            if get_last_name(idx) == last_name:\n",
    "                return float(get_spin_2021(idx))"
   ]
  },
  {
   "cell_type": "code",
   "execution_count": 12,
   "id": "1610c173",
   "metadata": {},
   "outputs": [],
   "source": [
    "__init__()"
   ]
  }
 ],
 "metadata": {
  "kernelspec": {
   "display_name": "Python 3 (ipykernel)",
   "language": "python",
   "name": "python3"
  },
  "language_info": {
   "codemirror_mode": {
    "name": "ipython",
    "version": 3
   },
   "file_extension": ".py",
   "mimetype": "text/x-python",
   "name": "python",
   "nbconvert_exporter": "python",
   "pygments_lexer": "ipython3",
   "version": "3.9.13"
  }
 },
 "nbformat": 4,
 "nbformat_minor": 5
}
