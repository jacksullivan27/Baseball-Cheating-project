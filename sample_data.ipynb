{
 "cells": [
  {
   "cell_type": "code",
   "execution_count": 2,
   "id": "6ec127c8",
   "metadata": {},
   "outputs": [],
   "source": [
    "import pandas as pd\n",
    "import numpy as np"
   ]
  },
  {
   "cell_type": "code",
   "execution_count": 3,
   "id": "12e6734c",
   "metadata": {},
   "outputs": [],
   "source": [
    "def get_ave_spin(col_name, df = pd.read_csv(\"sample_data.csv\")):\n",
    "    return np.mean(df[col_name])"
   ]
  },
  {
   "cell_type": "code",
   "execution_count": 2,
   "id": "37927f8b",
   "metadata": {
    "scrolled": true
   },
   "outputs": [],
   "source": [
    "# import pandas as pd\n",
    "# import numpy as np\n",
    "# test_case = pd.read_csv(\"sample_data.csv\")\n",
    "# print(get_ave_spin(\"spin_rate_1\", test_case))"
   ]
  },
  {
   "cell_type": "code",
   "execution_count": 3,
   "id": "89a139a6",
   "metadata": {},
   "outputs": [],
   "source": [
    "__sample_data__ = []"
   ]
  },
  {
   "cell_type": "code",
   "execution_count": 4,
   "id": "2029f38d",
   "metadata": {},
   "outputs": [],
   "source": [
    "def __init__():\n",
    "    import csv\n",
    "    \"\"\"This function will read in the csv_file and store it in a list of dictionaries\"\"\"\n",
    "    __sample_data__.clear()\n",
    "    with open('sample_data.csv', mode='r') as csv_file:\n",
    "        csv_reader = csv.DictReader(csv_file)\n",
    "        for row in csv_reader:\n",
    "            __sample_data__.append(row)"
   ]
  },
  {
   "cell_type": "code",
   "execution_count": 5,
   "id": "15cdd1a3",
   "metadata": {},
   "outputs": [],
   "source": [
    "def count():\n",
    "    \"\"\"This function will return the number of records in the dataset\"\"\"\n",
    "    return len(__sample_data__)"
   ]
  },
  {
   "cell_type": "code",
   "execution_count": 6,
   "id": "90f2b49d",
   "metadata": {},
   "outputs": [],
   "source": [
    "def get_first_name(idx):\n",
    "    \"\"\"get_first_name(idx) returns the first name of the player in row idx\"\"\"\n",
    "    return __sample_data__[int(idx)]['first_name']"
   ]
  },
  {
   "cell_type": "code",
   "execution_count": 7,
   "id": "4d27f275",
   "metadata": {},
   "outputs": [],
   "source": [
    "def get_last_name(idx):\n",
    "    \"\"\"get_last_name(idx) returns the last name of the player in row idx\"\"\"\n",
    "    return __sample_data__[int(idx)]['last_name']"
   ]
  },
  {
   "cell_type": "code",
   "execution_count": 8,
   "id": "d273a260",
   "metadata": {},
   "outputs": [],
   "source": [
    "def get_player_id(idx):\n",
    "    \"\"\"get_player_id(idx) returns the id of the player in row idx\"\"\"\n",
    "    return __sample_data__[int(idx)]['player_id']"
   ]
  },
  {
   "cell_type": "code",
   "execution_count": 9,
   "id": "347de8e8",
   "metadata": {},
   "outputs": [],
   "source": [
    "__init__()"
   ]
  }
 ],
 "metadata": {
  "kernelspec": {
   "display_name": "Python 3 (ipykernel)",
   "language": "python",
   "name": "python3"
  },
  "language_info": {
   "codemirror_mode": {
    "name": "ipython",
    "version": 3
   },
   "file_extension": ".py",
   "mimetype": "text/x-python",
   "name": "python",
   "nbconvert_exporter": "python",
   "pygments_lexer": "ipython3",
   "version": "3.9.13"
  }
 },
 "nbformat": 4,
 "nbformat_minor": 5
}
